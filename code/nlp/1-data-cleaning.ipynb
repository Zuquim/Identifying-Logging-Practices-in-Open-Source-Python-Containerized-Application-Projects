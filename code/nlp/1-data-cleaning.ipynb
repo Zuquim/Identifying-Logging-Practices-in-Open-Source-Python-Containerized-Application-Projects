{
 "cells": [
  {
   "cell_type": "markdown",
   "metadata": {},
   "source": [
    "## Initial setup"
   ]
  },
  {
   "cell_type": "code",
   "execution_count": 1,
   "metadata": {},
   "outputs": [],
   "source": [
    "# imports and constants\n",
    "import pandas as pd\n",
    "import pickle\n",
    "from concurrent.futures import ThreadPoolExecutor\n",
    "from csv import DictReader\n",
    "from os import system\n",
    "from time import time\n",
    "\n",
    "pd.set_option('max_colwidth', 150)\n",
    "source_csv_file_path = \"../output/logger_calls5.csv\"\n",
    "source_csv_columns = (\"repo\", \"path\", \"line\", \"logger\", \"verbosity\", \"level\", \"full_content\")\n",
    "verbosity_levels = (\"DEBUG\", \"INFO\", \"WARNING\", \"ERROR\", \"CRITICAL\", \"OTHER\")"
   ]
  },
  {
   "cell_type": "code",
   "execution_count": 2,
   "metadata": {},
   "outputs": [
    {
     "data": {
      "text/plain": [
       "0"
      ]
     },
     "execution_count": 2,
     "metadata": {},
     "output_type": "execute_result"
    }
   ],
   "source": [
    "# contents fresh start\n",
    "system(\"rm -v contents/*.txt\")"
   ]
  },
  {
   "cell_type": "markdown",
   "metadata": {},
   "source": [
    "## Loading data into pandas.Dataframe"
   ]
  },
  {
   "cell_type": "code",
   "execution_count": 3,
   "metadata": {},
   "outputs": [],
   "source": [
    "# using Pandas Dataframes\n",
    "df = pd.read_csv(source_csv_file_path)"
   ]
  },
  {
   "cell_type": "code",
   "execution_count": 4,
   "metadata": {},
   "outputs": [
    {
     "name": "stdout",
     "output_type": "stream",
     "text": [
      "Time spent: 0.963 seconds\n"
     ]
    }
   ],
   "source": [
    "# pickling logger contents for later use\n",
    "start = time()\n",
    "\n",
    "# removing statements which do not have a string argument\n",
    "df_str = df[df.full_content.str.contains(r\".*[\\'\\\"]{1,3}.+[\\'\\\"]{1,3}.*\")]\n",
    "\n",
    "# # filtering per verbosity level\n",
    "# debug_df = df_str[df_str.verbosity == \"DEBUG\"]\n",
    "# info_df = df_str[df_str.verbosity == \"INFO\"]\n",
    "# warning_df = df_str[df_str.verbosity == \"WARNING\"]\n",
    "# error_df = df_str[df_str.verbosity == \"ERROR\"]\n",
    "# critical_df = df_str[df_str.verbosity == \"CRITICAL\"]\n",
    "# # other_df = df_str[df_str.verbosity == \"OTHER\"]  # discarded\n",
    "\n",
    "print(f\"Time spent: {time() - start:.3f} seconds\")"
   ]
  },
  {
   "cell_type": "code",
   "execution_count": 5,
   "metadata": {},
   "outputs": [
    {
     "name": "stdout",
     "output_type": "stream",
     "text": [
      "Time spent: 0.302 seconds\n"
     ]
    }
   ],
   "source": [
    "# pickling logger contents for later use\n",
    "start = time()\n",
    "\n",
    "# filtering per verbosity level\n",
    "for level in verbosity_levels:\n",
    "    level_df = df_str[df_str.verbosity == level]\n",
    "    with open(f\"contents/{level}.txt\", \"wb\") as f:\n",
    "        pickle.dump(\" \".join(level_df.full_content), f)\n",
    "\n",
    "print(f\"Time spent: {time() - start:.3f} seconds\")"
   ]
  },
  {
   "cell_type": "code",
   "execution_count": 6,
   "metadata": {},
   "outputs": [],
   "source": [
    "# loading pickled files\n",
    "data = {}\n",
    "for v in verbosity_levels:\n",
    "    if v == \"OTHER\":\n",
    "        continue\n",
    "    with open(f\"contents/{v}.txt\", \"rb\") as f:\n",
    "        data[v] = pickle.load(f)"
   ]
  },
  {
   "cell_type": "markdown",
   "metadata": {},
   "source": [
    "## Cleaning data"
   ]
  },
  {
   "cell_type": "code",
   "execution_count": 7,
   "metadata": {},
   "outputs": [],
   "source": [
    "# first round of text cleaning techniques\n",
    "from re import escape, sub\n",
    "from string import punctuation\n",
    "\n",
    "\n",
    "def clean_text_round1(text: str) -> str:\n",
    "    text = text.lower()\n",
    "#     text = sub(r'.*[\\'\\\"]{1,3}(.+)[\\'\\\"]{1,3}.*', r'\\1', text)\n",
    "    text = sub(r'\\{[\\w\\(\\)\\[\\]\\'\\\"]*\\}', '', text)\n",
    "    text = sub(r\"%s\", \"\", text)\n",
    "    text = sub(r'[' + escape(punctuation) + escape(\"\\\"'‘’“”…\") + r']', '', text)\n",
    "    text = sub(r'\\w*\\d\\w*', '', text)\n",
    "    return text\n",
    "\n",
    "\n",
    "round1 = lambda x: clean_text_round1(x)"
   ]
  },
  {
   "cell_type": "code",
   "execution_count": 9,
   "metadata": {},
   "outputs": [
    {
     "name": "stdout",
     "output_type": "stream",
     "text": [
      "Time spent: 0.007 seconds\n"
     ]
    }
   ],
   "source": [
    "start = time()\n",
    "\n",
    "data_combined = {key: [value] for (key, value) in data.items()}\n",
    "data_df = pd.DataFrame.from_dict(data_combined).transpose()\n",
    "data_df.columns = ['content']\n",
    "data_df = data_df.sort_index()\n",
    "data_df\n",
    "\n",
    "print(f\"Time spent: {time() - start:.3f} seconds\")"
   ]
  },
  {
   "cell_type": "code",
   "execution_count": 10,
   "metadata": {},
   "outputs": [
    {
     "data": {
      "text/plain": [
       "dict_keys(['DEBUG', 'INFO', 'WARNING', 'ERROR', 'CRITICAL'])"
      ]
     },
     "execution_count": 10,
     "metadata": {},
     "output_type": "execute_result"
    }
   ],
   "source": [
    "# Double check to make sure data has been loaded properly\n",
    "data.keys()"
   ]
  },
  {
   "cell_type": "code",
   "execution_count": 11,
   "metadata": {},
   "outputs": [
    {
     "name": "stdout",
     "output_type": "stream",
     "text": [
      "Time spent: 3.186 seconds\n"
     ]
    }
   ],
   "source": [
    "# Let's take a look at the updated text\n",
    "start = time()\n",
    "\n",
    "data_clean = pd.DataFrame(data_df.content.apply(round1))\n",
    "data_clean\n",
    "\n",
    "print(f\"Time spent: {time() - start:.3f} seconds\")"
   ]
  },
  {
   "cell_type": "code",
   "execution_count": 12,
   "metadata": {},
   "outputs": [],
   "source": [
    "# Let's pickle it for later use\n",
    "data_df.to_pickle(\"corpus.pkl\")"
   ]
  },
  {
   "cell_type": "code",
   "execution_count": 14,
   "metadata": {},
   "outputs": [
    {
     "data": {
      "text/html": [
       "<div>\n",
       "<style scoped>\n",
       "    .dataframe tbody tr th:only-of-type {\n",
       "        vertical-align: middle;\n",
       "    }\n",
       "\n",
       "    .dataframe tbody tr th {\n",
       "        vertical-align: top;\n",
       "    }\n",
       "\n",
       "    .dataframe thead th {\n",
       "        text-align: right;\n",
       "    }\n",
       "</style>\n",
       "<table border=\"1\" class=\"dataframe\">\n",
       "  <thead>\n",
       "    <tr style=\"text-align: right;\">\n",
       "      <th></th>\n",
       "      <th>aa</th>\n",
       "      <th>aaaa</th>\n",
       "      <th>aaaaa</th>\n",
       "      <th>aac</th>\n",
       "      <th>aaccount</th>\n",
       "      <th>aaccountid</th>\n",
       "      <th>aaccountusername</th>\n",
       "      <th>aad</th>\n",
       "      <th>aadclientappid</th>\n",
       "      <th>aadclientid</th>\n",
       "      <th>...</th>\n",
       "      <th>非交易日</th>\n",
       "      <th>非交易日formatdaystrftimeymd</th>\n",
       "      <th>非插件</th>\n",
       "      <th>非法url</th>\n",
       "      <th>非盘中</th>\n",
       "      <th>非高价值需求</th>\n",
       "      <th>页码</th>\n",
       "      <th>预计至少有d条路线</th>\n",
       "      <th>验证用户密码时报错</th>\n",
       "      <th>默认采用等权重方式</th>\n",
       "    </tr>\n",
       "  </thead>\n",
       "  <tbody>\n",
       "    <tr>\n",
       "      <th>CRITICAL</th>\n",
       "      <td>0</td>\n",
       "      <td>0</td>\n",
       "      <td>0</td>\n",
       "      <td>0</td>\n",
       "      <td>0</td>\n",
       "      <td>0</td>\n",
       "      <td>0</td>\n",
       "      <td>0</td>\n",
       "      <td>0</td>\n",
       "      <td>0</td>\n",
       "      <td>...</td>\n",
       "      <td>0</td>\n",
       "      <td>0</td>\n",
       "      <td>0</td>\n",
       "      <td>0</td>\n",
       "      <td>0</td>\n",
       "      <td>0</td>\n",
       "      <td>0</td>\n",
       "      <td>0</td>\n",
       "      <td>0</td>\n",
       "      <td>0</td>\n",
       "    </tr>\n",
       "    <tr>\n",
       "      <th>DEBUG</th>\n",
       "      <td>1</td>\n",
       "      <td>0</td>\n",
       "      <td>0</td>\n",
       "      <td>0</td>\n",
       "      <td>0</td>\n",
       "      <td>0</td>\n",
       "      <td>0</td>\n",
       "      <td>0</td>\n",
       "      <td>0</td>\n",
       "      <td>0</td>\n",
       "      <td>...</td>\n",
       "      <td>0</td>\n",
       "      <td>0</td>\n",
       "      <td>1</td>\n",
       "      <td>0</td>\n",
       "      <td>0</td>\n",
       "      <td>0</td>\n",
       "      <td>0</td>\n",
       "      <td>0</td>\n",
       "      <td>0</td>\n",
       "      <td>0</td>\n",
       "    </tr>\n",
       "    <tr>\n",
       "      <th>ERROR</th>\n",
       "      <td>0</td>\n",
       "      <td>0</td>\n",
       "      <td>0</td>\n",
       "      <td>0</td>\n",
       "      <td>1</td>\n",
       "      <td>0</td>\n",
       "      <td>0</td>\n",
       "      <td>0</td>\n",
       "      <td>0</td>\n",
       "      <td>0</td>\n",
       "      <td>...</td>\n",
       "      <td>0</td>\n",
       "      <td>0</td>\n",
       "      <td>0</td>\n",
       "      <td>0</td>\n",
       "      <td>0</td>\n",
       "      <td>0</td>\n",
       "      <td>2</td>\n",
       "      <td>0</td>\n",
       "      <td>1</td>\n",
       "      <td>0</td>\n",
       "    </tr>\n",
       "    <tr>\n",
       "      <th>INFO</th>\n",
       "      <td>4</td>\n",
       "      <td>1</td>\n",
       "      <td>0</td>\n",
       "      <td>0</td>\n",
       "      <td>1</td>\n",
       "      <td>0</td>\n",
       "      <td>2</td>\n",
       "      <td>9</td>\n",
       "      <td>2</td>\n",
       "      <td>0</td>\n",
       "      <td>...</td>\n",
       "      <td>0</td>\n",
       "      <td>0</td>\n",
       "      <td>0</td>\n",
       "      <td>1</td>\n",
       "      <td>1</td>\n",
       "      <td>0</td>\n",
       "      <td>0</td>\n",
       "      <td>2</td>\n",
       "      <td>0</td>\n",
       "      <td>0</td>\n",
       "    </tr>\n",
       "    <tr>\n",
       "      <th>WARNING</th>\n",
       "      <td>2</td>\n",
       "      <td>0</td>\n",
       "      <td>3</td>\n",
       "      <td>1</td>\n",
       "      <td>0</td>\n",
       "      <td>1</td>\n",
       "      <td>0</td>\n",
       "      <td>0</td>\n",
       "      <td>0</td>\n",
       "      <td>1</td>\n",
       "      <td>...</td>\n",
       "      <td>18</td>\n",
       "      <td>1</td>\n",
       "      <td>0</td>\n",
       "      <td>0</td>\n",
       "      <td>0</td>\n",
       "      <td>1</td>\n",
       "      <td>0</td>\n",
       "      <td>0</td>\n",
       "      <td>0</td>\n",
       "      <td>1</td>\n",
       "    </tr>\n",
       "  </tbody>\n",
       "</table>\n",
       "<p>5 rows × 103528 columns</p>\n",
       "</div>"
      ],
      "text/plain": [
       "          aa  aaaa  aaaaa  aac  aaccount  aaccountid  aaccountusername  aad  \\\n",
       "CRITICAL   0     0      0    0         0           0                 0    0   \n",
       "DEBUG      1     0      0    0         0           0                 0    0   \n",
       "ERROR      0     0      0    0         1           0                 0    0   \n",
       "INFO       4     1      0    0         1           0                 2    9   \n",
       "WARNING    2     0      3    1         0           1                 0    0   \n",
       "\n",
       "          aadclientappid  aadclientid  ...  非交易日  非交易日formatdaystrftimeymd  \\\n",
       "CRITICAL               0            0  ...     0                         0   \n",
       "DEBUG                  0            0  ...     0                         0   \n",
       "ERROR                  0            0  ...     0                         0   \n",
       "INFO                   2            0  ...     0                         0   \n",
       "WARNING                0            1  ...    18                         1   \n",
       "\n",
       "          非插件  非法url  非盘中  非高价值需求  页码  预计至少有d条路线  验证用户密码时报错  默认采用等权重方式  \n",
       "CRITICAL    0      0    0       0   0          0          0          0  \n",
       "DEBUG       1      0    0       0   0          0          0          0  \n",
       "ERROR       0      0    0       0   2          0          1          0  \n",
       "INFO        0      1    1       0   0          2          0          0  \n",
       "WARNING     0      0    0       1   0          0          0          1  \n",
       "\n",
       "[5 rows x 103528 columns]"
      ]
     },
     "execution_count": 14,
     "metadata": {},
     "output_type": "execute_result"
    }
   ],
   "source": [
    "# We are going to create a document-term matrix using CountVectorizer, and exclude common English stop words\n",
    "from sklearn.feature_extraction.text import CountVectorizer\n",
    "\n",
    "cv = CountVectorizer(stop_words='english')\n",
    "data_cv = cv.fit_transform(data_clean.content)\n",
    "data_dtm = pd.DataFrame(data_cv.toarray(), columns=cv.get_feature_names())\n",
    "data_dtm.index = data_clean.index\n",
    "data_dtm"
   ]
  },
  {
   "cell_type": "code",
   "execution_count": 15,
   "metadata": {},
   "outputs": [],
   "source": [
    "# Let's pickle it for later use\n",
    "data_dtm.to_pickle(\"dtm.pkl\")"
   ]
  },
  {
   "cell_type": "code",
   "execution_count": 16,
   "metadata": {},
   "outputs": [],
   "source": [
    "# Let's also pickle the cleaned data (before we put it in document-term matrix format) and the CountVectorizer object\n",
    "data_clean.to_pickle('data_clean.pkl')\n",
    "pickle.dump(cv, open(\"cv.pkl\", \"wb\"))"
   ]
  },
  {
   "cell_type": "code",
   "execution_count": null,
   "metadata": {},
   "outputs": [],
   "source": []
  }
 ],
 "metadata": {
  "kernelspec": {
   "display_name": "Python 3",
   "language": "python",
   "name": "python3"
  },
  "language_info": {
   "codemirror_mode": {
    "name": "ipython",
    "version": 3
   },
   "file_extension": ".py",
   "mimetype": "text/x-python",
   "name": "python",
   "nbconvert_exporter": "python",
   "pygments_lexer": "ipython3",
   "version": "3.8.6"
  }
 },
 "nbformat": 4,
 "nbformat_minor": 4
}
